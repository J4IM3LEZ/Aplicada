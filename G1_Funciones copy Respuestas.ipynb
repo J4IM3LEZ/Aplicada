{
  "cells": [
    {
      "cell_type": "markdown",
      "metadata": {
        "id": "xXjhMBMryPEY"
      },
      "source": [
        "# Problema 1"
      ]
    },
    {
      "cell_type": "markdown",
      "metadata": {},
      "source": [
        "Una red transmite datos a $100$ megabits por segundo. Crea una función utilizando *Python* que permita calcular la cantidad de datos transmitidos en una cierta cantidad de tiempo (en segundos). Luego utiliza la función y calcula cuántos datos se transmiten en:\n",
        "\n",
        "* $45$ segundos\n",
        "* $1,5$ minutos\n",
        "* $1$ hora\n",
        "\n"
      ]
    },
    {
      "cell_type": "markdown",
      "metadata": {
        "id": "D8XA9m7wAPMm"
      },
      "source": [
        "# Problema 2"
      ]
    },
    {
      "cell_type": "markdown",
      "metadata": {
        "id": "GAqylLb8Cu5U"
      },
      "source": [
        "Utilizando la función definida en el problema $1$, genera un listado que muestre los datos transmitidos para tiempos desde $0$ hasta $1.000$ segundos con incrementos de $100$ segundos."
      ]
    },
    {
      "cell_type": "markdown",
      "metadata": {
        "id": "Y28VfYtL2lU-"
      },
      "source": [
        "# Problema 3"
      ]
    },
    {
      "cell_type": "markdown",
      "metadata": {
        "id": "Z1-uAGdQ2xq2"
      },
      "source": [
        "La **latencia** de una red corresponde al tiempo que tarda un paquete de datos en viajar desde el punto de origen al destino. En otras palabras, es el tiempo que transcurre desde que se envía una solicitud de un dispositivo hasta que se recibe una respuesta del servidor u otro dispositivo.\n",
        "\n",
        "La latencia puede verse afectada por la velocidad de transmisión de los datos a través de los cables o conexiones inalámbricas, la distancia física entre los dispositivos, el tiempo que tarda un computador en procesar o reenviar los datos, etc.\n",
        "\n",
        "En redes de comunicación, como las videoconferencias, juegos en línea y transmisión de datos en tiempo real, es deseable una baja latencia, de lo contrario pueden existir retrasos en la comunicación y afectar negativamente la experiencia del usuario."
      ]
    },
    {
      "cell_type": "markdown",
      "metadata": {
        "id": "XFLW0fW26j83"
      },
      "source": [
        "Según el contexto mencionado, crea una función en *Python* que permita calcular la **latencia real** de una red dada una latencia estimada. Suponga que la latencia real es un $20\\%$ mayor a la latencia estimada.\n",
        "\n",
        "Calcule la latencia real para una latencia estimada de:\n",
        "\n",
        "a)   $200$ milisegundos.\n",
        "\n",
        "b)   $149$ milisegundos.\n",
        "\n",
        "c)   $74$ milisegundos.\n",
        "\n"
      ]
    },
    {
      "cell_type": "markdown",
      "metadata": {
        "id": "LGX3xr94E-Ix"
      },
      "source": [
        "# Problema 4"
      ]
    },
    {
      "cell_type": "markdown",
      "metadata": {
        "id": "wPT1xIfVGDCQ"
      },
      "source": [
        "Como parte de un proyecto de mejora, en el año $2021$ se instaló un cable de fibra óptica que une España con EEUU. El cable tiene un largo de $6.600$ $km$ y fue colocado por un barco a una velocidad de $1,85$ $km/h$.\n",
        "\n",
        "\n",
        "\n",
        "1.   Determine la forma algebraica de la función que permite determinar el largo del cable instalado (en km) a partir del tiempo transcurrido (en horas). Utilice la instrucción *def* para definir la función en *Python*.\n",
        "2.   Defina variable dependiente e independiente, indicando unidad de medida.\n",
        "3.   Determine el dominio contextualizado de la función.\n",
        "4.   Grafique la función utilizando la biblioteca *Matplotlib* considerando el dominio contextualizado.\n",
        "5.   ¿Cuántos metros de cable se instalaron al transcurrir $148$ horas? ¿Y transcurridas $2.300$ horas?\n",
        "6.   Si se han instalado $3.480$ kilometros de cable, ¿cuántas horas llevan de trabajo?\n",
        "7.   ¿Cuánto tiempo transcurrió para que se completara la obra?\n",
        "\n",
        "\n"
      ]
    },
    {
      "cell_type": "markdown",
      "metadata": {
        "id": "FMr921rUDxvV"
      },
      "source": [
        "# Problema 5"
      ]
    },
    {
      "cell_type": "markdown",
      "metadata": {
        "id": "Iuo-QM5vGSiW"
      },
      "source": [
        "Un turista ha llegado a Santiago y desea conocer algunos lugares de la ciudad. Ha decidido visitar el Palacio de la Moneda y desde ahí trasladarse al centro comercial \"Costanera Center\", utilizando algún medio de transporte que ofrece la ciudad.\n",
        "\n",
        "Si se traslada en metro deberá abordar en estación La Moneda y bajar en la estación Tobalaba ($9$ estaciones). La función $f(t)$ permite calcular la distancia recorrida utilizando el metro (en kilómetros) transcurridos $t$ minutos.\n",
        "\n",
        "$$f(t) = 0,4t$$\n",
        "\n",
        "Si se traslada en bus, el turista podrá observar la ciudad y otros atractivos en su viaje. La función $g(t)$ permite calcular la distancia recorrida en bus (en kilómetros) transcurridos $t$ minutos.\n",
        "\n",
        "$$g(t) = 0,3t$$\n",
        "\n",
        "Según la información anterior:\n",
        "\n",
        "1. Grafique ambas funciones, indicando el nombre de cada eje junto con su unidad de medida. Para realizar el gráfico utilice la biblioteca *Matplotlib*.\n",
        "2.  Si se sabe que el metro se demora $1,2$ minutos en llegar desde una estación a otra y espera $30$ segundos en cada estación, indique el dominio contextualizado para $f(t)$.\n",
        "3. Mediante análisis gráfico, indique cuál medio de transporte es más conveniente en términos de tiempo, para el turista. Justifique.\n",
        "4.  Si se sabe que desde estación La Moneda hasta Tobalaba son aproximadamente $6$ kilómetros ¿cuántos tiempo tardará el turista en llegar a su destino con cada una de las opciones?"
      ]
    },
    {
      "cell_type": "markdown",
      "metadata": {
        "id": "C5psSJY-S9x4"
      },
      "source": [
        "# Problema 6"
      ]
    },
    {
      "cell_type": "markdown",
      "metadata": {
        "id": "0v3a4hJATUgX"
      },
      "source": [
        "La temperatura de un servidor (en °C) puede ser modelada mediante la función\n",
        "\n",
        "$$T(t) = -0,5 t^{2} + 3 t + 20$$\n",
        "\n",
        "donde $t$ corresponde al tiempo transcurrido (en horas) en un día laboral. Considere que la jornada laboral comienza a las 08:00 horas y termina a las 17:00 horas.\n",
        "\n",
        "1.  Defina variable dependiente e independiente, indicando unidad de medida.\n",
        "2.  Determine el dominio contextualizado del problema.\n",
        "3.  Grafique la función utilizando *Python*.\n",
        "4.  Mediante un análisis gráfico, estime cuándo el servidor alcanza la máxima temperatura y calcule cuánto es.\n",
        "5.  Determine la temperatura del servidor a las 13:00 horas y al finalizar la jornada laboral.\n"
      ]
    },
    {
      "cell_type": "code",
      "execution_count": 1,
      "metadata": {},
      "outputs": [
        {
          "name": "stdout",
          "output_type": "stream",
          "text": [
            "PROBLEMA 6: TEMPERATURA DEL SERVIDOR\n",
            "Función: T(t) = -0.5t² + 3t + 20\n",
            "Jornada laboral: 08:00 a 17:00 horas (9 horas)\n",
            "\n",
            "DIFERENCIA CON PROBLEMAS ANTERIORES:\n",
            "- Antes: funciones lineales (línea recta)\n",
            "- Ahora: función cuadrática (parábola)\n",
            "- Tiene un punto máximo\n",
            "\n",
            "1. DEFINIR VARIABLES\n",
            "--------------------\n",
            "Variable independiente: t (tiempo en horas desde inicio jornada)\n",
            "Variable dependiente: T (temperatura en °C)\n",
            "Unidades: t en horas, T en grados Celsius\n",
            "\n",
            "2. DOMINIO CONTEXTUALIZADO\n",
            "------------------------------\n",
            "Jornada laboral:\n",
            "- Inicia: 08:00 horas → t = 0\n",
            "- Termina: 17:00 horas → t = 9 horas\n",
            "Dominio: [0, 9] horas\n",
            "\n",
            "3. GRÁFICO DE LA FUNCIÓN\n",
            "-------------------------\n"
          ]
        },
        {
          "data": {
            "image/png": "[encoded data removed]",
            "text/plain": [
              "<Figure size 1000x600 with 1 Axes>"
            ]
          },
          "metadata": {},
          "output_type": "display_data"
        },
        {
          "name": "stdout",
          "output_type": "stream",
          "text": [
            "OBSERVACIONES DEL GRÁFICO:\n",
            "- Forma de parábola (curva)\n",
            "- Sube hasta un máximo, luego baja\n",
            "- No es línea recta como problemas anteriores\n",
            "\n",
            "4. TEMPERATURA MÁXIMA\n",
            "----------------------\n",
            "Para funciones cuadráticas T(t) = at² + bt + c\n",
            "El máximo ocurre en t = -b/(2a)\n",
            "\n",
            "En nuestro caso: T(t) = -0.5t² + 3t + 20\n",
            "a = -0.5, b = 3, c = 20\n",
            "t_máximo = -3/(2×(-0.5)) = -3/(-1) = 3.0 horas\n",
            "T_máxima = T(3.0) = 24.5 °C\n",
            "\n",
            "Hora del día: 08:00 + 3.0 horas = 11:00\n",
            "\n",
            "5. TEMPERATURAS ESPECÍFICAS\n",
            "----------------------------\n",
            "a) Temperatura a las 13:00:\n",
            "13:00 - 08:00 = 5 horas después del inicio\n",
            "t = 5 horas\n",
            "T(5) = -0.5×(5)² + 3×(5) + 20\n",
            "T(5) = -0.5×25 + 15 + 20\n",
            "T(5) = -12.5 + 15 + 20 = 22.5 °C\n",
            "\n",
            "b) Temperatura al final de jornada (17:00):\n",
            "17:00 - 08:00 = 9 horas después del inicio\n",
            "t = 9 horas\n",
            "T(9) = -0.5×(9)² + 3×(9) + 20\n",
            "T(9) = -0.5×81 + 27 + 20\n",
            "T(9) = -40.5 + 27 + 20 = 6.5 °C\n",
            "\n",
            "TABLA DE TEMPERATURAS DURANTE EL DÍA:\n",
            "Hora  | t(hrs)| Temp(°C)\n",
            "------------------------\n",
            "08:00 |     0 |    20.0\n",
            "09:00 |     1 |    22.5\n",
            "10:00 |     2 |    24.0\n",
            "11:00 |     3 |    24.5\n",
            "12:00 |     4 |    24.0\n",
            "13:00 |     5 |    22.5\n",
            "14:00 |     6 |    20.0\n",
            "15:00 |     7 |    16.5\n",
            "16:00 |     8 |    12.0\n",
            "17:00 |     9 |     6.5\n",
            "\n",
            "VERIFICACIONES:\n",
            "¿La temperatura máxima es a las 11:00?\n",
            "Revisando valores cercanos:\n",
            "  10.0h: 24.0°C\n",
            "  10.5h: 24.4°C\n",
            "  11.0h: 24.5°C\n",
            "  11.5h: 24.4°C\n",
            "  12.0h: 24.0°C\n",
            "Sí, el máximo es a las 11:00\n",
            "\n",
            "==================================================\n",
            "RESPUESTAS FINALES:\n",
            "==================================================\n",
            "1. t = tiempo (horas), T = temperatura (°C)\n",
            "2. Dominio: [0, 9] horas\n",
            "3. Gráfico: parábola que sube y baja\n",
            "4. Temperatura máxima: 24.5°C a las 11:00\n",
            "5a. A las 13:00: 22.5°C\n",
            "5b. Al final (17:00): 6.5°C\n",
            "\n",
            "CONCEPTO CLAVE:\n",
            "Las funciones cuadráticas NO son líneas rectas\n",
            "Tienen forma de U (o U invertida)\n",
            "Siempre tienen un punto máximo o mínimo\n"
          ]
        }
      ],
      "source": [
        "import matplotlib.pyplot as plt\n",
        "import numpy as np\n",
        "\n",
        "print(\"PROBLEMA 6: TEMPERATURA DEL SERVIDOR\")\n",
        "print(\"Función: T(t) = -0.5t² + 3t + 20\")\n",
        "print(\"Jornada laboral: 08:00 a 17:00 horas (9 horas)\")\n",
        "print()\n",
        "\n",
        "# Definir la función\n",
        "def temperatura_servidor(t):\n",
        "    \"\"\"T(t) = -0.5t² + 3t + 20\"\"\"\n",
        "    return -0.5 * t**2 + 3 * t + 20\n",
        "\n",
        "print(\"DIFERENCIA CON PROBLEMAS ANTERIORES:\")\n",
        "print(\"- Antes: funciones lineales (línea recta)\")\n",
        "print(\"- Ahora: función cuadrática (parábola)\")\n",
        "print(\"- Tiene un punto máximo\")\n",
        "print()\n",
        "\n",
        "# ====================================\n",
        "# 1. VARIABLES\n",
        "# ====================================\n",
        "print(\"1. DEFINIR VARIABLES\")\n",
        "print(\"-\" * 20)\n",
        "print(\"Variable independiente: t (tiempo en horas desde inicio jornada)\")\n",
        "print(\"Variable dependiente: T (temperatura en °C)\")\n",
        "print(\"Unidades: t en horas, T en grados Celsius\")\n",
        "print()\n",
        "\n",
        "# ====================================\n",
        "# 2. DOMINIO CONTEXTUALIZADO\n",
        "# ====================================\n",
        "print(\"2. DOMINIO CONTEXTUALIZADO\")\n",
        "print(\"-\" * 30)\n",
        "print(\"Jornada laboral:\")\n",
        "print(\"- Inicia: 08:00 horas → t = 0\")\n",
        "print(\"- Termina: 17:00 horas → t = 9 horas\")\n",
        "print(\"Dominio: [0, 9] horas\")\n",
        "print()\n",
        "\n",
        "# ====================================\n",
        "# 3. GRÁFICO\n",
        "# ====================================\n",
        "print(\"3. GRÁFICO DE LA FUNCIÓN\")\n",
        "print(\"-\" * 25)\n",
        "\n",
        "# Crear datos para el gráfico\n",
        "t = np.linspace(0, 9, 100)\n",
        "T = temperatura_servidor(t)\n",
        "\n",
        "plt.figure(figsize=(10, 6))\n",
        "plt.plot(t, T, 'r-', linewidth=2, label='T(t) = -0.5t² + 3t + 20')\n",
        "plt.xlabel('Tiempo desde inicio jornada (horas)')\n",
        "plt.ylabel('Temperatura (°C)')\n",
        "plt.title('Temperatura del servidor durante jornada laboral')\n",
        "plt.grid(True, alpha=0.3)\n",
        "plt.legend()\n",
        "\n",
        "# Marcar puntos importantes\n",
        "# Temperatura inicial (t=0)\n",
        "temp_inicial = temperatura_servidor(0)\n",
        "plt.plot(0, temp_inicial, 'go', markersize=8, label=f'Inicio: {temp_inicial}°C')\n",
        "\n",
        "# Temperatura final (t=9)\n",
        "temp_final = temperatura_servidor(9)\n",
        "plt.plot(9, temp_final, 'bo', markersize=8, label=f'Final: {temp_final}°C')\n",
        "\n",
        "plt.legend()\n",
        "plt.xlim(0, 9)\n",
        "plt.tight_layout()\n",
        "plt.show()\n",
        "\n",
        "print(\"OBSERVACIONES DEL GRÁFICO:\")\n",
        "print(\"- Forma de parábola (curva)\")\n",
        "print(\"- Sube hasta un máximo, luego baja\")\n",
        "print(\"- No es línea recta como problemas anteriores\")\n",
        "print()\n",
        "\n",
        "# ====================================\n",
        "# 4. TEMPERATURA MÁXIMA\n",
        "# ====================================\n",
        "print(\"4. TEMPERATURA MÁXIMA\")\n",
        "print(\"-\" * 22)\n",
        "print(\"Para funciones cuadráticas T(t) = at² + bt + c\")\n",
        "print(\"El máximo ocurre en t = -b/(2a)\")\n",
        "print()\n",
        "\n",
        "print(\"En nuestro caso: T(t) = -0.5t² + 3t + 20\")\n",
        "print(\"a = -0.5, b = 3, c = 20\")\n",
        "\n",
        "t_maximo = -3 / (2 * (-0.5))\n",
        "temp_maxima = temperatura_servidor(t_maximo)\n",
        "\n",
        "print(f\"t_máximo = -3/(2×(-0.5)) = -3/(-1) = {t_maximo} horas\")\n",
        "print(f\"T_máxima = T({t_maximo}) = {temp_maxima} °C\")\n",
        "print()\n",
        "\n",
        "# Convertir a hora del día\n",
        "hora_del_dia = 8 + t_maximo  # 8:00 + t horas\n",
        "print(f\"Hora del día: 08:00 + {t_maximo} horas = {hora_del_dia:02.0f}:00\")\n",
        "print()\n",
        "\n",
        "# ====================================\n",
        "# 5. TEMPERATURAS ESPECÍFICAS\n",
        "# ====================================\n",
        "print(\"5. TEMPERATURAS ESPECÍFICAS\")\n",
        "print(\"-\" * 28)\n",
        "\n",
        "# a) 13:00 horas = 5 horas después de las 8:00\n",
        "print(\"a) Temperatura a las 13:00:\")\n",
        "print(\"13:00 - 08:00 = 5 horas después del inicio\")\n",
        "print(\"t = 5 horas\")\n",
        "\n",
        "t_13h = 5\n",
        "temp_13h = temperatura_servidor(t_13h)\n",
        "print(f\"T(5) = -0.5×(5)² + 3×(5) + 20\")\n",
        "print(f\"T(5) = -0.5×25 + 15 + 20\")  \n",
        "print(f\"T(5) = -12.5 + 15 + 20 = {temp_13h} °C\")\n",
        "print()\n",
        "\n",
        "# b) Al final de jornada (17:00)\n",
        "print(\"b) Temperatura al final de jornada (17:00):\")\n",
        "print(\"17:00 - 08:00 = 9 horas después del inicio\")\n",
        "print(\"t = 9 horas\")\n",
        "\n",
        "t_17h = 9\n",
        "temp_17h = temperatura_servidor(t_17h)\n",
        "print(f\"T(9) = -0.5×(9)² + 3×(9) + 20\")\n",
        "print(f\"T(9) = -0.5×81 + 27 + 20\")\n",
        "print(f\"T(9) = -40.5 + 27 + 20 = {temp_17h} °C\")\n",
        "print()\n",
        "\n",
        "# ====================================\n",
        "# TABLA DE TEMPERATURAS\n",
        "# ====================================\n",
        "print(\"TABLA DE TEMPERATURAS DURANTE EL DÍA:\")\n",
        "print(\"Hora  | t(hrs)| Temp(°C)\")\n",
        "print(\"-\" * 24)\n",
        "\n",
        "horas_del_dia = [8, 9, 10, 11, 12, 13, 14, 15, 16, 17]\n",
        "for hora in horas_del_dia:\n",
        "    t_valor = hora - 8  # horas desde inicio\n",
        "    temp = temperatura_servidor(t_valor)\n",
        "    print(f\"{hora:02d}:00 | {t_valor:5.0f} | {temp:7.1f}\")\n",
        "\n",
        "print()\n",
        "\n",
        "# ====================================\n",
        "# VERIFICACIONES\n",
        "# ====================================\n",
        "print(\"VERIFICACIONES:\")\n",
        "print(f\"¿La temperatura máxima es a las {hora_del_dia:02.0f}:00?\")\n",
        "print(\"Revisando valores cercanos:\")\n",
        "\n",
        "for t_test in [2, 2.5, 3, 3.5, 4]:\n",
        "    temp_test = temperatura_servidor(t_test)\n",
        "    hora_test = 8 + t_test\n",
        "    print(f\"  {hora_test:04.1f}h: {temp_test:.1f}°C\")\n",
        "    \n",
        "print(\"Sí, el máximo es a las 11:00\")\n",
        "print()\n",
        "\n",
        "print(\"=\"*50)\n",
        "print(\"RESPUESTAS FINALES:\")\n",
        "print(\"=\"*50)\n",
        "print(\"1. t = tiempo (horas), T = temperatura (°C)\")\n",
        "print(\"2. Dominio: [0, 9] horas\")\n",
        "print(\"3. Gráfico: parábola que sube y baja\")\n",
        "print(f\"4. Temperatura máxima: {temp_maxima}°C a las {hora_del_dia:02.0f}:00\")\n",
        "print(f\"5a. A las 13:00: {temp_13h}°C\") \n",
        "print(f\"5b. Al final (17:00): {temp_17h}°C\")\n",
        "\n",
        "print()\n",
        "print(\"CONCEPTO CLAVE:\")\n",
        "print(\"Las funciones cuadráticas NO son líneas rectas\")\n",
        "print(\"Tienen forma de U (o U invertida)\")\n",
        "print(\"Siempre tienen un punto máximo o mínimo\")"
      ]
    },
    {
      "cell_type": "markdown",
      "metadata": {
        "id": "pD_SzSu3jBkn"
      },
      "source": [
        "# Problema 7"
      ]
    },
    {
      "cell_type": "markdown",
      "metadata": {
        "id": "OJyAOwerjJ5m"
      },
      "source": [
        "El número de usuarios de una red social se puede modelar mediante la función:\n",
        "\n",
        "$$U(t) = \\frac{1.000}{1+9e^{-0.5t}}$$\n",
        "\n",
        "donde $t$ corresponde al tiempo transcurrido en meses.\n",
        "\n",
        "1.  Defina variable dependiente e independiente, indicando unidad de medida.\n",
        "2.  Determine la cantidad de usuarios transcurridos $12$ meses.\n",
        "3.  Grafique la función, utilizando la librería *Matplotlib*, para los primeros dos años de funcionamiento.\n",
        "4.  ¿Cuánto tiempo debe pasar para que la red social llegue a $800$ usuarios?"
      ]
    },
    {
      "cell_type": "code",
      "execution_count": null,
      "metadata": {},
      "outputs": [],
      "source": []
    },
    {
      "cell_type": "markdown",
      "metadata": {
        "id": "TaZ_E6YwB0I4"
      },
      "source": [
        "# Problema 8"
      ]
    },
    {
      "cell_type": "markdown",
      "metadata": {
        "id": "HwpmaO5cDO43"
      },
      "source": [
        "El tiempo de ejecución de un algoritmo de ordenación (en segundos) se puede modelar mediante la función:\n",
        "\n",
        "$$A(n) = 0,01n^{2} + 0,5n + 2$$\n",
        "\n",
        "donde $n$ corresponde a la cantidad de elementos a ordenar. El algoritmo funciona desde las 23:00 horas hasta las 06:00 horas y debe ordenar $1.562$ elementos.\n",
        "\n",
        "1. Defina variable dependiente e independiente, indicando unidad de medida.\n",
        "2. Determine el dominio contextualizado de la función.\n",
        "3. Determine el tiempo de ejecución para ordenar $1.200$ elementos.\n",
        "4. Grafique, utilizando la biblioteca *Matplotlib*, la función $A(n)$.\n",
        "5. ¿Cuántos elementos ordena luego de $6$ horas de funcionamiento?"
      ]
    },
    {
      "cell_type": "markdown",
      "metadata": {
        "id": "yOcCVQKdOeGC"
      },
      "source": [
        "# Problema 9"
      ]
    },
    {
      "cell_type": "markdown",
      "metadata": {
        "id": "QZl4iQT2Ognb"
      },
      "source": [
        "El consumo de energía (en $kWh$) de un *Data Center* puede ser modelado por la función:\n",
        "\n",
        " $$E(t) = 50\\cdot \\log(t + 1) + 200$$\n",
        "\n",
        "donde $t$ corresponde al tiempo (en horas) desde el inicio del monitoreo.\n",
        "\n",
        "1. Defina variable dependiente e independiente, indicando unidad de medida.\n",
        "2. Determine el consumo de energía del *Data Center* después de $5$ horas.\n",
        "3. ¿Luego de cuántas horas el consumo será de $350$ kWh?\n",
        "4. Grafique, utilizando la biblioteca *Matplotlib*, la función $E(t)$."
      ]
    },
    {
      "cell_type": "markdown",
      "metadata": {
        "id": "OHKN7SIFyh2-"
      },
      "source": [
        "# Problema 10"
      ]
    },
    {
      "cell_type": "markdown",
      "metadata": {
        "id": "T1ooPV9Ny4mr"
      },
      "source": [
        "En gestión de proyectos, es crucial entender cómo se distribuye la carga de trabajo a lo largo del tiempo para planificar recursos, tiempo y esfuerzos de manera eficiente. Un fenómeno común es la disminución exponencial de la carga de trabajo, donde el esfuerzo requerido es mayor al inicio del proyecto y disminuye gradualmente a medida que se completan las tareas principales.\n",
        "\n",
        "Esta disminución exponencial puede modelarse matemáticamente para predecir y gestionar el trabajo de manera efectiva.\n",
        "\n",
        "<br>\n",
        "\n",
        "Un estudio sobre gestión de proyectos sostiene que la carga de trabajo en un proyecto (en porcentaje) puede ser modelada por la función:\n",
        "\n",
        "$$W(t) = 100e^{-0.1t}$$\n",
        "\n",
        "donde $t$ corresponde al tiempo transcurrido (en semanas) desde el inicio del proyecto.\n",
        "\n",
        "1. Defina variable dependiente e independiente, indicando unidad de medida.\n",
        "2. Determine la carga de trabajo al inicio del proyecto.\n",
        "3. ¿Cuál será la carga de trabajo luego de transcurridas $4$ semanas desde el inicio del proyecto?\n",
        "4. Si el proyecto duró $12$ semanas, ¿es correcto afirmar que la carga de trabajo llegó al $20\\%$?\n",
        "5. ¿Cuántas semanas han pasado desde el inicio del proyecto para que la carga de trabajo sea de $55\\%$?\n",
        "6. Utilizando *Matplotlib*, grafique la función considerando un tiempo máximo de $12$ semanas."
      ]
    }
  ],
  "metadata": {
    "colab": {
      "provenance": [],
      "toc_visible": true
    },
    "kernelspec": {
      "display_name": "Python 3",
      "name": "python3"
    },
    "language_info": {
      "codemirror_mode": {
        "name": "ipython",
        "version": 3
      },
      "file_extension": ".py",
      "mimetype": "text/x-python",
      "name": "python",
      "nbconvert_exporter": "python",
      "pygments_lexer": "ipython3",
      "version": "3.11.9"
    }
  },
  "nbformat": 4,
  "nbformat_minor": 0
}
