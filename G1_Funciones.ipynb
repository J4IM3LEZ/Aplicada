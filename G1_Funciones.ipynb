{
  "cells": [
    {
      "cell_type": "markdown",
      "metadata": {
        "id": "xXjhMBMryPEY"
      },
      "source": [
        "# Problema 1"
      ]
    },
    {
      "cell_type": "markdown",
      "metadata": {
        "id": "hd5aYLdWxUrZ"
      },
      "source": []
    },
    {
      "cell_type": "markdown",
      "metadata": {},
      "source": [
        "Una red transmite datos a $100$ megabits por segundo. Crea una función utilizando *Python* que permita calcular la cantidad de datos transmitidos en una cierta cantidad de tiempo (en segundos). Luego utiliza la función y calcula cuántos datos se transmiten en:\n",
        "\n",
        "* $45$ segundos\n",
        "* $1,5$ minutos\n",
        "* $1$ hora\n",
        "\n"
      ]
    },
    {
      "cell_type": "code",
      "execution_count": 1,
      "metadata": {},
      "outputs": [
        {
          "name": "stdout",
          "output_type": "stream",
          "text": [
            "Ingresa una opcion\n",
            "1.Ingreso de segundos\n",
            "2.Ingreso de minutos\n",
            "3.Ingreso de horas\n",
            "4.Salir\n",
            "Ingresa un numero entero.\n",
            "Ingresa una opcion\n",
            "1.Ingreso de segundos\n",
            "2.Ingreso de minutos\n",
            "3.Ingreso de horas\n",
            "4.Salir\n",
            "Ingresa un numero entero.\n",
            "Ingresa una opcion\n",
            "1.Ingreso de segundos\n",
            "2.Ingreso de minutos\n",
            "3.Ingreso de horas\n",
            "4.Salir\n",
            "Ingresa un numero entero.\n",
            "Ingresa una opcion\n",
            "1.Ingreso de segundos\n",
            "2.Ingreso de minutos\n",
            "3.Ingreso de horas\n",
            "4.Salir\n",
            "Ingresa un numero entero.\n",
            "Ingresa una opcion\n",
            "1.Ingreso de segundos\n",
            "2.Ingreso de minutos\n",
            "3.Ingreso de horas\n",
            "4.Salir\n",
            "Ingresa un numero entero.\n",
            "Ingresa una opcion\n",
            "1.Ingreso de segundos\n",
            "2.Ingreso de minutos\n",
            "3.Ingreso de horas\n",
            "4.Salir\n",
            "Ingresa un numero entero.\n",
            "Ingresa una opcion\n",
            "1.Ingreso de segundos\n",
            "2.Ingreso de minutos\n",
            "3.Ingreso de horas\n",
            "4.Salir\n",
            "Ingresa un numero entero.\n",
            "Ingresa una opcion\n",
            "1.Ingreso de segundos\n",
            "2.Ingreso de minutos\n",
            "3.Ingreso de horas\n",
            "4.Salir\n",
            "Hasta la proxima\n"
          ]
        }
      ],
      "source": [
        "redTransmite = 100\n",
        "\n",
        "def minutosSegundos():\n",
        "    while(True):\n",
        "        print(\"Ingresa una opcion\")\n",
        "        print(\"1.Ingreso de segundos\")\n",
        "        print(\"2.Ingreso de minutos\")\n",
        "        print(\"3.Ingreso de horas\") \n",
        "        print(\"4.Salir\") \n",
        "        try:\n",
        "            opcion = int(input(\"Ingrese una opcion \"))\n",
        "            if opcion == 1:\n",
        "                unidadTiempo = \"Segudo/s\"\n",
        "                datosTransmitidosHoras = float(input(\"ingrese las segudo\"))\n",
        "                datosTransmitidosHorasPrint = datosTransmitidosHoras\n",
        "                cantidadDatos(datosTransmitidosHoras,unidadTiempo,datosTransmitidosHorasPrint)\n",
        "            if opcion == 2:\n",
        "                unidadTiempo =\"Minuto/s\"\n",
        "                datosTransmitidosMinutos = float(input(\"ingrese los minutos\"))\n",
        "                datosTransmitidosMinutosPrint = datosTransmitidosMinutos\n",
        "                datosTransmitidosMinutos = 60*datosTransmitidosMinutos\n",
        "                cantidadDatos(datosTransmitidosMinutos,unidadTiempo,datosTransmitidosMinutosPrint)\n",
        "            if opcion == 3:\n",
        "                unidadTiempo = \"Hora/\"\n",
        "                datosTransmitidosHoras = float(input(\"ingrese las horas\"))\n",
        "                datosTransmitidosHorasPrint = datosTransmitidosHoras\n",
        "                datosTransmitidosHoras = 3600*datosTransmitidosHoras\n",
        "                cantidadDatos(datosTransmitidosHoras,unidadTiempo,datosTransmitidosHorasPrint)\n",
        "            if opcion == 4:\n",
        "                print(\"Hasta la proxima\")\n",
        "                break          \n",
        "        except ValueError:\n",
        "            print(\"Ingresa un numero entero.\")\n",
        "\n",
        "def cantidadDatos(t,u,d):\n",
        "    datosTransmitidos = round(redTransmite*t)\n",
        "    return print(f\"Se ingresaron {datosTransmitidos} megabits {d} {u}\")\n",
        "\n",
        "\n",
        "minutosSegundos()"
      ]
    },
    {
      "cell_type": "markdown",
      "metadata": {
        "id": "D8XA9m7wAPMm"
      },
      "source": [
        "# Problema 2"
      ]
    },
    {
      "cell_type": "markdown",
      "metadata": {
        "id": "GAqylLb8Cu5U"
      },
      "source": [
        "Utilizando la función definida en el problema $1$, genera un listado que muestre los datos transmitidos para tiempos desde $0$ hasta $1.000$ segundos con incrementos de $100$ segundos."
      ]
    },
    {
      "cell_type": "code",
      "execution_count": 2,
      "metadata": {},
      "outputs": [
        {
          "name": "stdout",
          "output_type": "stream",
          "text": [
            "0\n",
            "10000\n",
            "20000\n",
            "30000\n",
            "40000\n",
            "50000\n",
            "60000\n",
            "70000\n",
            "80000\n",
            "90000\n"
          ]
        }
      ],
      "source": [
        "\n",
        "for i in range(0,1000,100):\n",
        "    print(i*redTransmite)\n",
        "    i+100"
      ]
    },
    {
      "cell_type": "markdown",
      "metadata": {
        "id": "Y28VfYtL2lU-"
      },
      "source": [
        "# Problema 3"
      ]
    },
    {
      "cell_type": "markdown",
      "metadata": {
        "id": "Z1-uAGdQ2xq2"
      },
      "source": [
        "La **latencia** de una red corresponde al tiempo que tarda un paquete de datos en viajar desde el punto de origen al destino. En otras palabras, es el tiempo que transcurre desde que se envía una solicitud de un dispositivo hasta que se recibe una respuesta del servidor u otro dispositivo.\n",
        "\n",
        "La latencia puede verse afectada por la velocidad de transmisión de los datos a través de los cables o conexiones inalámbricas, la distancia física entre los dispositivos, el tiempo que tarda un computador en procesar o reenviar los datos, etc.\n",
        "\n",
        "En redes de comunicación, como las videoconferencias, juegos en línea y transmisión de datos en tiempo real, es deseable una baja latencia, de lo contrario pueden existir retrasos en la comunicación y afectar negativamente la experiencia del usuario."
      ]
    },
    {
      "cell_type": "markdown",
      "metadata": {
        "id": "XFLW0fW26j83"
      },
      "source": [
        "Según el contexto mencionado, crea una función en *Python* que permita calcular la **latencia real** de una red dada una latencia estimada. Suponga que la latencia real es un $20\\%$ mayor a la latencia estimada.\n",
        "\n",
        "Calcule la latencia real para una latencia estimada de:\n",
        "\n",
        "a)   $200$ milisegundos.\n",
        "\n",
        "b)   $149$ milisegundos.\n",
        "\n",
        "c)   $74$ milisegundos.\n",
        "\n"
      ]
    },
    {
      "cell_type": "markdown",
      "metadata": {
        "id": "LGX3xr94E-Ix"
      },
      "source": [
        "# Problema 4"
      ]
    },
    {
      "cell_type": "markdown",
      "metadata": {
        "id": "wPT1xIfVGDCQ"
      },
      "source": [
        "Como parte de un proyecto de mejora, en el año $2021$ se instaló un cable de fibra óptica que une España con EEUU. El cable tiene un largo de $6.600$ $km$ y fue colocado por un barco a una velocidad de $1,85$ $km/h$.\n",
        "\n",
        "\n",
        "\n",
        "1.   Determine la forma algebraica de la función que permite determinar el largo del cable instalado (en km) a partir del tiempo transcurrido (en horas). Utilice la instrucción *def* para definir la función en *Python*.\n",
        "2.   Defina variable dependiente e independiente, indicando unidad de medida.\n",
        "3.   Determine el dominio contextualizado de la función.\n",
        "4.   Grafique la función utilizando la biblioteca *Matplotlib* considerando el dominio contextualizado.\n",
        "5.   ¿Cuántos metros de cable se instalaron al transcurrir $148$ horas? ¿Y transcurridas $2.300$ horas?\n",
        "6.   Si se han instalado $3.480$ kilometros de cable, ¿cuántas horas llevan de trabajo?\n",
        "7.   ¿Cuánto tiempo transcurrió para que se completara la obra?\n",
        "\n",
        "\n"
      ]
    },
    {
      "cell_type": "markdown",
      "metadata": {
        "id": "FMr921rUDxvV"
      },
      "source": [
        "# Problema 5"
      ]
    },
    {
      "cell_type": "markdown",
      "metadata": {
        "id": "Iuo-QM5vGSiW"
      },
      "source": [
        "Un turista ha llegado a Santiago y desea conocer algunos lugares de la ciudad. Ha decidido visitar el Palacio de la Moneda y desde ahí trasladarse al centro comercial \"Costanera Center\", utilizando algún medio de transporte que ofrece la ciudad.\n",
        "\n",
        "Si se traslada en metro deberá abordar en estación La Moneda y bajar en la estación Tobalaba ($9$ estaciones). La función $f(t)$ permite calcular la distancia recorrida utilizando el metro (en kilómetros) transcurridos $t$ minutos.\n",
        "\n",
        "$$f(t) = 0,4t$$\n",
        "\n",
        "Si se traslada en bus, el turista podrá observar la ciudad y otros atractivos en su viaje. La función $g(t)$ permite calcular la distancia recorrida en bus (en kilómetros) transcurridos $t$ minutos.\n",
        "\n",
        "$$g(t) = 0,3t$$\n",
        "\n",
        "Según la información anterior:\n",
        "\n",
        "1. Grafique ambas funciones, indicando el nombre de cada eje junto con su unidad de medida. Para realizar el gráfico utilice la biblioteca *Matplotlib*.\n",
        "2.  Si se sabe que el metro se demora $1,2$ minutos en llegar desde una estación a otra y espera $30$ segundos en cada estación, indique el dominio contextualizado para $f(t)$.\n",
        "3. Mediante análisis gráfico, indique cuál medio de transporte es más conveniente en términos de tiempo, para el turista. Justifique.\n",
        "4.  Si se sabe que desde estación La Moneda hasta Tobalaba son aproximadamente $6$ kilómetros ¿cuántos tiempo tardará el turista en llegar a su destino con cada una de las opciones?"
      ]
    },
    {
      "cell_type": "code",
      "execution_count": 4,
      "metadata": {},
      "outputs": [
        {
          "name": "stdout",
          "output_type": "stream",
          "text": [
            "Pregunta 1 \n",
            "\n",
            "Pregunta 2 \n",
            "\n",
            "14.799999999999999\n",
            "Pregunta 3 \n",
            "\n",
            "El metro debido que recorre mas km en el mismo tiempor que el bus \n",
            "\n",
            "Pregunta 4 \n",
            "\n",
            "Para recorrer una distancia de 6Km, el tiempo que demora en metro es de 15.0 minutos \n",
            "y en bus de  20.0 minutos\n"
          ]
        },
        {
          "data": {
            "image/png": "[encoded data removed]",
            "text/plain": [
              "<Figure size 640x480 with 1 Axes>"
            ]
          },
          "metadata": {},
          "output_type": "display_data"
        }
      ],
      "source": [
        "import numpy as np\n",
        "import matplotlib.pyplot as plt\n",
        "\n",
        "print(\"Pregunta 1 \\n\")\n",
        "def f(t):\n",
        "    return 0.4*t\n",
        "\n",
        "def g(t):\n",
        "    return 0.3*t\n",
        "\n",
        "t = np.arange(0, 14.8, 0.01 )\n",
        "plt.plot(t, f(t), label = \"Metro\" )\n",
        "plt.plot(t,g(t), label = \"Bus\")\n",
        "\n",
        "plt.title(\"Relacion entre la distancia y el tiempo\")\n",
        "plt.xlabel(\"Tiempo (Minutos)\") # nombre de eje horizontal (Variable independiente)\n",
        "plt.ylabel(\"Distancia (Km)\") # nombre de eje vertial (Varible depediente)\n",
        "plt.grid(True) #grilla de fondo\n",
        "plt.legend()\n",
        "plt.show #\n",
        "\n",
        "print(\"Pregunta 2 \\n\")\n",
        "tiempo_total = 1.2*9 + 0.5*8\n",
        "print(tiempo_total)\n",
        "\n",
        "print(\"Pregunta 3 \\n\")\n",
        "print(\"El metro debido que recorre mas km en el mismo tiempor que el bus \\n\")\n",
        "\n",
        "print(\"Pregunta 4 \\n\")\n",
        "tiempoMetro = 6/0.4\n",
        "tiempoBus = 6/0.3\n",
        "print(f\"Para recorrer una distancia de 6Km, el tiempo que demora en metro es de {tiempoMetro} minutos \\ny en bus de  {tiempoBus} minutos\")\n"
      ]
    },
    {
      "cell_type": "markdown",
      "metadata": {
        "id": "C5psSJY-S9x4"
      },
      "source": [
        "# Problema 6"
      ]
    },
    {
      "cell_type": "markdown",
      "metadata": {
        "id": "0v3a4hJATUgX"
      },
      "source": [
        "La temperatura de un servidor (en °C) puede ser modelada mediante la función\n",
        "\n",
        "$$T(t) = -0,5 t^{2} + 3 t + 20$$\n",
        "\n",
        "donde $t$ corresponde al tiempo transcurrido (en horas) en un día laboral. Considere que la jornada laboral comienza a las 08:00 horas y termina a las 17:00 horas.\n",
        "\n",
        "1.  Defina variable dependiente e independiente, indicando unidad de medida.\n",
        "2.  Determine el dominio contextualizado del problema.\n",
        "3.  Grafique la función utilizando *Python*.\n",
        "4.  Mediante un análisis gráfico, estime cuándo el servidor alcanza la máxima temperatura y calcule cuánto es.\n",
        "5.  Determine la temperatura del servidor a las 13:00 horas y al finalizar la jornada laboral.\n"
      ]
    },
    {
      "cell_type": "code",
      "execution_count": 5,
      "metadata": {},
      "outputs": [
        {
          "name": "stdout",
          "output_type": "stream",
          "text": [
            "Pregunta 1 \n",
            "\n",
            " Independiente: El tiempo trancurrido en horas t\n",
            " Dependiente: La temeperatura del servidor T(t)\n",
            "Pregunta 2 \n",
            "\n",
            "Dominio T =[0,9] \n"
          ]
        },
        {
          "name": "stderr",
          "output_type": "stream",
          "text": [
            "C:\\Users\\javie\\AppData\\Local\\Temp\\ipykernel_17596\\3833357140.py:18: UserWarning: No artists with labels found to put in legend.  Note that artists whose label start with an underscore are ignored when legend() is called with no argument.\n",
            "  plt.legend()\n"
          ]
        },
        {
          "data": {
            "text/plain": [
              "<function matplotlib.pyplot.show(close=None, block=None)>"
            ]
          },
          "execution_count": 5,
          "metadata": {},
          "output_type": "execute_result"
        },
        {
          "data": {
            "image/png": "[encoded data removed]",
            "text/plain": [
              "<Figure size 640x480 with 1 Axes>"
            ]
          },
          "metadata": {},
          "output_type": "display_data"
        }
      ],
      "source": [
        "print(\"Pregunta 1 \\n\")\n",
        "print(\" Independiente: El tiempo trancurrido en horas t\\n Dependiente: La temeperatura del servidor T(t)\")\n",
        "\n",
        "\n",
        "print(\"Pregunta 2 \\n\") \n",
        "print (\"Dominio T =[0,9] \")\n",
        "\n",
        "\n",
        "def T(t):\n",
        "    return -0.5*t**2 + 3*t + 20\n",
        "\n",
        "t = np.arange(0, 9, 0.01 )\n",
        "plt.plot(t, T(t))\n",
        "plt.title(\"Relacion entre la temperatura y el tiempo\")\n",
        "plt.xlabel(\"Tiempo (Horas)\") \n",
        "plt.ylabel(\"Distancia (°c)\")\n",
        "plt.grid(True) \n",
        "plt.legend()\n",
        "plt.show \n"
      ]
    },
    {
      "cell_type": "markdown",
      "metadata": {
        "id": "pD_SzSu3jBkn"
      },
      "source": [
        "# Problema 7"
      ]
    },
    {
      "cell_type": "markdown",
      "metadata": {
        "id": "OJyAOwerjJ5m"
      },
      "source": [
        "El número de usuarios de una red social se puede modelar mediante la función:\n",
        "\n",
        "$$U(t) = \\frac{1.000}{1+9e^{-0.5t}}$$\n",
        "\n",
        "donde $t$ corresponde al tiempo transcurrido en meses.\n",
        "\n",
        "1.  Defina variable dependiente e independiente, indicando unidad de medida.\n",
        "2.  Determine la cantidad de usuarios transcurridos $12$ meses.\n",
        "3.  Grafique la función, utilizando la librería *Matplotlib*, para los primeros dos años de funcionamiento.\n",
        "4.  ¿Cuánto tiempo debe pasar para que la red social llegue a $800$ usuarios?"
      ]
    },
    {
      "cell_type": "code",
      "execution_count": null,
      "metadata": {},
      "outputs": [],
      "source": [
        "import numpy as np\n",
        "import matplotlib.pyplot as plt\n",
        "from scipy.optimize import fsolve \n",
        "\n",
        "\n",
        "print(\"# Pregunta 1\")\n",
        "print(\"Independiente (Tiempo)\")\n",
        "print(\"Dependiente (User)\")\n",
        "\n",
        "print(\"\\n# Pregunta 2\")\n",
        "def U(t):\n",
        "    return 1000 / ( 1 + 9 * np.exp (-0.5 * t))\n",
        "\n",
        "print(f\"Transcurridos 12 meses la cantidad de usarios de la red social es de {U(12):.0f}\") \n",
        "print(f\"Transcurridos 12 meses la cantidad de usarios de la red social es de {round(U(12),2)}\")\n",
        "\n",
        "print(\"\\n# Pregunta 3\")\n",
        "t = np.arange(0, 25, 0.01)\n",
        "plt.plot(t,U(t), label=\"Cantidad Usarios\")\n",
        "plt.xlabel(\"Tiempo (Meses)\")\n",
        "plt.ylabel(\"Cantidad de Usarios(Undades)\")\n",
        "plt.title(\"Relacion entre le cantidad de usarios y el timepo transcurrido\")\n",
        "plt.grid(True)\n",
        "plt.legend()\n",
        "plt.show()\n",
        "\n",
        "print(\"\\n# Pregunta 4\")\n",
        "def u(t):\n",
        "    return 1000 / ( 1 + 9 * np.exp (-0.5 * t)) - 800\n",
        "    \n",
        "t = np.linspace(0, 25, 1)\n",
        "solucion = fsolve(u,t)\n",
        "\n",
        "solucion[0]\n",
        "\n",
        "print(f\"Para que la red social tenga un total de 800 user debe transcurrir 7.2meses aprox {solucion[0]}\")\n",
        "\n",
        "\"Horizontal dominio X\""
      ]
    },
    {
      "cell_type": "markdown",
      "metadata": {
        "id": "TaZ_E6YwB0I4"
      },
      "source": [
        "# Problema 8"
      ]
    },
    {
      "cell_type": "markdown",
      "metadata": {
        "id": "HwpmaO5cDO43"
      },
      "source": [
        "El tiempo de ejecución de un algoritmo de ordenación (en segundos) se puede modelar mediante la función:\n",
        "\n",
        "$$A(n) = 0,01n^{2} + 0,5n + 2$$\n",
        "\n",
        "donde $n$ corresponde a la cantidad de elementos a ordenar. El algoritmo funciona desde las 23:00 horas hasta las 06:00 horas y debe ordenar $1.562$ elementos.\n",
        "\n",
        "1. Defina variable dependiente e independiente, indicando unidad de medida.\n",
        "2. Determine el dominio contextualizado de la función.\n",
        "3. Determine el tiempo de ejecución para ordenar $1.200$ elementos.\n",
        "4. Grafique, utilizando la biblioteca *Matplotlib*, la función $A(n)$.\n",
        "5. ¿Cuántos elementos ordena luego de $6$ horas de funcionamiento?"
      ]
    },
    {
      "cell_type": "code",
      "execution_count": null,
      "metadata": {},
      "outputs": [],
      "source": [
        "import numpy as np\n",
        "import matplotlib.pyplot as plt\n",
        "from scipy.optimize import fsolve \n",
        "\n",
        "print(\"# Pregunta 1\")\n",
        "print(\"Independiente Cantidad de elementos (unidad)\")\n",
        "print(\"Dependiente Timepo de ejecucion (Segudos)\")\n",
        "\n",
        "print(\"\\n# Pregunta 2\")\n",
        "print(\"Dom[0,1562]\")\n",
        "\n",
        "print(\"\\n# Pregunta 3\")\n",
        "\n",
        "def A(n):\n",
        "    return 0.01*n**2 + 0.5*n +2\n",
        "print(f\"para ordernar 1200 elemtos el algoritmo demora un tiempo igual a{A(1200)} segundos\")\n",
        "\n",
        "\n",
        "\n",
        "print(\"\\n# Pregunta 3\")\n",
        "\n",
        "print(\"\\n# Pregunta 4\")\n",
        "def a(n):\n",
        "    return 0.01*n**2 + 0.5*n +2 - 6*60*60\n",
        "    \n",
        "n = np.linspace(0, 1562, 1)\n",
        "solucion = fsolve(a,n)\n",
        "\n",
        "solucion[0]\n",
        "\n",
        "print(f\"Trancurrido 6 horas el algoritmo ordena {round(solucion[0])} elementos\")\n",
        "\n",
        "\n",
        "    "
      ]
    },
    {
      "cell_type": "markdown",
      "metadata": {
        "id": "yOcCVQKdOeGC"
      },
      "source": [
        "# Problema 9"
      ]
    },
    {
      "cell_type": "markdown",
      "metadata": {
        "id": "QZl4iQT2Ognb"
      },
      "source": [
        "El consumo de energía (en $kWh$) de un *Data Center* puede ser modelado por la función:\n",
        "\n",
        " $$E(t) = 50\\cdot \\log(t + 1) + 200$$\n",
        "\n",
        "donde $t$ corresponde al tiempo (en horas) desde el inicio del monitoreo.\n",
        "\n",
        "1. Defina variable dependiente e independiente, indicando unidad de medida.\n",
        "2. Determine el consumo de energía del *Data Center* después de $5$ horas.\n",
        "3. ¿Luego de cuántas horas el consumo será de $350$ kWh?\n",
        "4. Grafique, utilizando la biblioteca *Matplotlib*, la función $E(t)$."
      ]
    },
    {
      "cell_type": "code",
      "execution_count": null,
      "metadata": {},
      "outputs": [],
      "source": [
        "import numpy as np\n",
        "import matplotlib.pyplot as plt\n",
        "from scipy.optimize import fsolve \n",
        "\n",
        "print(\"\\n# Pregunta 1\")\n",
        "\n",
        "print(\"\\n# Pregunta 2\")\n",
        "def E(t):\n",
        "    return 50 * np.log10(t+1)+200\n",
        "\n",
        "print (f\"Despues de 5 hroas el consumo de enga es de {round(E(5))}\")\n",
        "\n"
      ]
    },
    {
      "cell_type": "markdown",
      "metadata": {
        "id": "OHKN7SIFyh2-"
      },
      "source": [
        "# Problema 10"
      ]
    },
    {
      "cell_type": "markdown",
      "metadata": {
        "id": "T1ooPV9Ny4mr"
      },
      "source": [
        "En gestión de proyectos, es crucial entender cómo se distribuye la carga de trabajo a lo largo del tiempo para planificar recursos, tiempo y esfuerzos de manera eficiente. Un fenómeno común es la disminución exponencial de la carga de trabajo, donde el esfuerzo requerido es mayor al inicio del proyecto y disminuye gradualmente a medida que se completan las tareas principales.\n",
        "\n",
        "Esta disminución exponencial puede modelarse matemáticamente para predecir y gestionar el trabajo de manera efectiva.\n",
        "\n",
        "<br>\n",
        "\n",
        "Un estudio sobre gestión de proyectos sostiene que la carga de trabajo en un proyecto (en porcentaje) puede ser modelada por la función:\n",
        "\n",
        "$$W(t) = 100e^{-0.1t}$$\n",
        "\n",
        "donde $t$ corresponde al tiempo transcurrido (en semanas) desde el inicio del proyecto.\n",
        "\n",
        "1. Defina variable dependiente e independiente, indicando unidad de medida.\n",
        "2. Determine la carga de trabajo al inicio del proyecto.\n",
        "3. ¿Cuál será la carga de trabajo luego de transcurridas $4$ semanas desde el inicio del proyecto?\n",
        "4. Si el proyecto duró $12$ semanas, ¿es correcto afirmar que la carga de trabajo llegó al $20\\%$?\n",
        "5. ¿Cuántas semanas han pasado desde el inicio del proyecto para que la carga de trabajo sea de $55\\%$?\n",
        "6. Utilizando *Matplotlib*, grafique la función considerando un tiempo máximo de $12$ semanas."
      ]
    }
  ],
  "metadata": {
    "colab": {
      "provenance": [],
      "toc_visible": true
    },
    "kernelspec": {
      "display_name": "Python 3",
      "name": "python3"
    },
    "language_info": {
      "codemirror_mode": {
        "name": "ipython",
        "version": 3
      },
      "file_extension": ".py",
      "mimetype": "text/x-python",
      "name": "python",
      "nbconvert_exporter": "python",
      "pygments_lexer": "ipython3",
      "version": "3.11.9"
    }
  },
  "nbformat": 4,
  "nbformat_minor": 0
}
